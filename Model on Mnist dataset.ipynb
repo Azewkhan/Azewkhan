{
  "nbformat": 4,
  "nbformat_minor": 0,
  "metadata": {
    "colab": {
      "provenance": [],
      "authorship_tag": "ABX9TyOCYZGveW6Znb1yKY1C97uV",
      "include_colab_link": true
    },
    "kernelspec": {
      "name": "python3",
      "display_name": "Python 3"
    },
    "language_info": {
      "name": "python"
    }
  },
  "cells": [
    {
      "cell_type": "markdown",
      "metadata": {
        "id": "view-in-github",
        "colab_type": "text"
      },
      "source": [
        "<a href=\"https://colab.research.google.com/github/Azewkhan/Azewkhan/blob/main/Model%20on%20Mnist%20dataset.ipynb\" target=\"_parent\"><img src=\"https://colab.research.google.com/assets/colab-badge.svg\" alt=\"Open In Colab\"/></a>"
      ]
    },
    {
      "cell_type": "code",
      "execution_count": 2,
      "metadata": {
        "id": "iOhoyKTo09jZ"
      },
      "outputs": [],
      "source": [
        "import os\n",
        "os.environ['TF_CPP_MIN_LOG_LEVEL'] = '2'\n",
        "\n",
        "import tensorflow as tf\n",
        "from tensorflow import keras\n",
        "from tensorflow.keras import layers\n",
        "from tensorflow.keras.datasets import mnist\n",
        "\n"
      ]
    },
    {
      "cell_type": "code",
      "source": [
        "(x_train,y_train),(x_test, y_test) = mnist.load_data()\n",
        "\n",
        "\n"
      ],
      "metadata": {
        "colab": {
          "base_uri": "https://localhost:8080/"
        },
        "id": "7UXYNB3s1wFy",
        "outputId": "cb7d4078-b6b7-46ff-b47f-9d96a2e28050"
      },
      "execution_count": 3,
      "outputs": [
        {
          "output_type": "stream",
          "name": "stdout",
          "text": [
            "Downloading data from https://storage.googleapis.com/tensorflow/tf-keras-datasets/mnist.npz\n",
            "11490434/11490434 [==============================] - 0s 0us/step\n"
          ]
        }
      ]
    },
    {
      "cell_type": "code",
      "source": [
        "#print(x_train.shape)\n",
        "#print(y_train.shape)\n",
        "x_train = x_train.reshape(-1, 28*28).astype(\"float32\")/255\n",
        "x_test = x_test.reshape(-1, 28*28).astype(\"float32\")  /255\n",
        "\n",
        "x_train = tf.convert_to_tensor(x_train)"
      ],
      "metadata": {
        "id": "mL-cv7wA2K5c"
      },
      "execution_count": 9,
      "outputs": []
    },
    {
      "cell_type": "code",
      "source": [
        "model = keras.Sequential(\n",
        "    [   keras.Input(shape = (28*28)),\n",
        "        layers.Dense(512, activation = 'relu'),\n",
        "        layers.Dense(256, activation = 'relu'),\n",
        "        layers.Dense(10)\n",
        "    ]\n",
        ")\n",
        "\n",
        "\n",
        "\n",
        "model.compile(\n",
        "    loss = keras.losses.SparseCategoricalCrossentropy(from_logits=True),\n",
        "    optimizer = keras.optimizers.Adam(lr = 0.001),\n",
        "    metrics = [\"accuracy\"]\n",
        ")\n",
        "\n",
        "model.fit(x_train, y_train, batch_size = 32, epochs=5, verbose =2)\n",
        "model.evaluate(x_test, y_test, batch_size=32 , verbose =2)\n",
        "\n",
        "print(model.summary())\n",
        "\n",
        "import sys\n",
        "\n",
        "sys.exit()"
      ],
      "metadata": {
        "colab": {
          "base_uri": "https://localhost:8080/",
          "height": 595
        },
        "id": "Cs9uPYbN2rB8",
        "outputId": "c84f1455-188b-44ea-bda5-e651eef0f4dc"
      },
      "execution_count": 17,
      "outputs": [
        {
          "output_type": "stream",
          "name": "stderr",
          "text": [
            "WARNING:absl:`lr` is deprecated in Keras optimizer, please use `learning_rate` or use the legacy optimizer, e.g.,tf.keras.optimizers.legacy.Adam.\n"
          ]
        },
        {
          "output_type": "stream",
          "name": "stdout",
          "text": [
            "Epoch 1/5\n",
            "1875/1875 - 16s - loss: 0.5872 - accuracy: 0.8226 - 16s/epoch - 9ms/step\n",
            "Epoch 2/5\n",
            "1875/1875 - 16s - loss: 0.2933 - accuracy: 0.9130 - 16s/epoch - 8ms/step\n",
            "Epoch 3/5\n",
            "1875/1875 - 16s - loss: 0.2222 - accuracy: 0.9347 - 16s/epoch - 9ms/step\n",
            "Epoch 4/5\n",
            "1875/1875 - 16s - loss: 0.1721 - accuracy: 0.9483 - 16s/epoch - 8ms/step\n",
            "Epoch 5/5\n",
            "1875/1875 - 15s - loss: 0.1378 - accuracy: 0.9589 - 15s/epoch - 8ms/step\n",
            "313/313 - 1s - loss: 0.1373 - accuracy: 0.9574 - 1s/epoch - 3ms/step\n",
            "Model: \"sequential_6\"\n",
            "_________________________________________________________________\n",
            " Layer (type)                Output Shape              Param #   \n",
            "=================================================================\n",
            " dense_18 (Dense)            (None, 512)               401920    \n",
            "                                                                 \n",
            " dense_19 (Dense)            (None, 256)               131328    \n",
            "                                                                 \n",
            " dense_20 (Dense)            (None, 10)                2570      \n",
            "                                                                 \n",
            "=================================================================\n",
            "Total params: 535818 (2.04 MB)\n",
            "Trainable params: 535818 (2.04 MB)\n",
            "Non-trainable params: 0 (0.00 Byte)\n",
            "_________________________________________________________________\n",
            "None\n"
          ]
        },
        {
          "output_type": "error",
          "ename": "SystemExit",
          "evalue": "",
          "traceback": [
            "An exception has occurred, use %tb to see the full traceback.\n",
            "\u001b[0;31mSystemExit\u001b[0m\n"
          ]
        }
      ]
    },
    {
      "cell_type": "code",
      "source": [],
      "metadata": {
        "id": "GIKUkuz_6yxP"
      },
      "execution_count": 18,
      "outputs": []
    },
    {
      "cell_type": "code",
      "source": [
        "\n"
      ],
      "metadata": {
        "id": "Q3czN13kUKo4"
      },
      "execution_count": 21,
      "outputs": []
    },
    {
      "cell_type": "code",
      "source": [],
      "metadata": {
        "id": "IElvcsAeU4tA"
      },
      "execution_count": null,
      "outputs": []
    }
  ]
}