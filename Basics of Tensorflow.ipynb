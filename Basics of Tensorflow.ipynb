{
  "nbformat": 4,
  "nbformat_minor": 0,
  "metadata": {
    "colab": {
      "provenance": [],
      "authorship_tag": "ABX9TyMI3dclWUHNRkYurUSko8Bo",
      "include_colab_link": true
    },
    "kernelspec": {
      "name": "python3",
      "display_name": "Python 3"
    },
    "language_info": {
      "name": "python"
    }
  },
  "cells": [
    {
      "cell_type": "markdown",
      "metadata": {
        "id": "view-in-github",
        "colab_type": "text"
      },
      "source": [
        "<a href=\"https://colab.research.google.com/github/Azewkhan/Azewkhan/blob/main/Basics%20of%20Tensorflow.ipynb\" target=\"_parent\"><img src=\"https://colab.research.google.com/assets/colab-badge.svg\" alt=\"Open In Colab\"/></a>"
      ]
    },
    {
      "cell_type": "code",
      "execution_count": 19,
      "metadata": {
        "id": "H5UgaL8oylyj"
      },
      "outputs": [],
      "source": [
        "import tensorflow as tf\n",
        "import os\n",
        "os.environ['TF_CPP_MIN_LOG_LEVEL'] = '2'\n"
      ]
    },
    {
      "cell_type": "code",
      "source": [
        "print(tf.__version__)"
      ],
      "metadata": {
        "colab": {
          "base_uri": "https://localhost:8080/"
        },
        "id": "f3x0B47izOqG",
        "outputId": "8847ca33-5c4b-42e7-e5a7-92ec46760324"
      },
      "execution_count": 4,
      "outputs": [
        {
          "output_type": "stream",
          "name": "stdout",
          "text": [
            "2.15.0\n"
          ]
        }
      ]
    },
    {
      "cell_type": "code",
      "source": [
        "#Initialising a Tensor\n",
        "\n",
        "x= tf.ones((3,3))\n",
        "x = tf.zeros((2,3))\n",
        "x = tf.eye(3)\n",
        "x = tf.random.normal((3,3), mean =0 , stddev=1)\n",
        "x =tf.random.uniform((3,3),minval=0, maxval=10)\n",
        "x= tf.range(start=1, limit =6,delta =3)\n",
        "print(x)"
      ],
      "metadata": {
        "colab": {
          "base_uri": "https://localhost:8080/"
        },
        "id": "Dp49lJ9xyvKX",
        "outputId": "1e530420-46d5-4a30-a5c4-bb62ce9b69a5"
      },
      "execution_count": 19,
      "outputs": [
        {
          "output_type": "stream",
          "name": "stdout",
          "text": [
            "tf.Tensor([1 4], shape=(2,), dtype=int32)\n"
          ]
        }
      ]
    },
    {
      "cell_type": "code",
      "source": [],
      "metadata": {
        "id": "GdjHNQfKq7vs"
      },
      "execution_count": null,
      "outputs": []
    },
    {
      "cell_type": "code",
      "source": [
        "  # Initiation\n",
        "   x=  tf.random.normal((2,3))\n",
        "   y= tf.random.normal((3,4))\n",
        "\n",
        "   x= tf.constant([1,2,3,4], shape= (2,2))\n",
        "   y = tf.constant([9,8,7])\n",
        "\n",
        "   z= tf.add(x,2)\n",
        "   z= tf.subtract(x,2)\n",
        "   z= tf.divide(x,2)\n",
        "   z= tf.multiply(x,2)\n",
        "\n",
        "\n",
        "   #z=  x @ y\n",
        "   #print(z)\n",
        "\n",
        "   #z = tf.matmul(x,y)\n",
        "   print(z)"
      ],
      "metadata": {
        "colab": {
          "base_uri": "https://localhost:8080/"
        },
        "id": "H1N9RyRs2jhO",
        "outputId": "c86b1561-0b45-4470-a3e0-4e9745140a0e"
      },
      "execution_count": 21,
      "outputs": [
        {
          "output_type": "stream",
          "name": "stdout",
          "text": [
            "tf.Tensor(\n",
            "[[2 4]\n",
            " [6 8]], shape=(2, 2), dtype=int32)\n"
          ]
        }
      ]
    },
    {
      "cell_type": "code",
      "source": [
        "#Indexing\n",
        "\n",
        "x = tf.constant([0,1,1,2,3,1,2,3])\n",
        "\n",
        "#print(x[:])\n",
        "#print(x[1:])\n",
        "#print(x[:12])\n",
        "#print(x[4::-1])\n",
        "\n",
        "india = tf.constant([0,4])\n",
        "x_india =tf.gather(x, india)\n",
        "#print(x_india)\n",
        "\n",
        "x = tf.constant([[1,2],[3,4],[5,6]])\n",
        "\n",
        "#print(x)\n",
        "print(x[0:2])\n",
        "\n"
      ],
      "metadata": {
        "colab": {
          "base_uri": "https://localhost:8080/"
        },
        "id": "lJwEoLfWrJZt",
        "outputId": "b14c2a54-0fd1-4ce0-e16e-a77feba25f2c"
      },
      "execution_count": 55,
      "outputs": [
        {
          "output_type": "stream",
          "name": "stdout",
          "text": [
            "tf.Tensor(\n",
            "[[1 2]\n",
            " [3 4]], shape=(2, 2), dtype=int32)\n"
          ]
        }
      ]
    },
    {
      "cell_type": "code",
      "source": [
        "#Reshaping\n",
        "\n",
        "x = tf.range(9)\n",
        "x = tf.reshape(x,(3,3))\n",
        "x= tf.transpose(x, perm=[1,0])\n",
        "print(x)\n",
        "\n"
      ],
      "metadata": {
        "colab": {
          "base_uri": "https://localhost:8080/"
        },
        "id": "s0iBgAE7uwXx",
        "outputId": "fc66981b-6339-4162-c016-12bed046392d"
      },
      "execution_count": 61,
      "outputs": [
        {
          "output_type": "stream",
          "name": "stdout",
          "text": [
            "tf.Tensor(\n",
            "[[0 3 6]\n",
            " [1 4 7]\n",
            " [2 5 8]], shape=(3, 3), dtype=int32)\n"
          ]
        }
      ]
    },
    {
      "cell_type": "code",
      "source": [],
      "metadata": {
        "id": "rZDdaSImzg7q"
      },
      "execution_count": null,
      "outputs": []
    }
  ]
}