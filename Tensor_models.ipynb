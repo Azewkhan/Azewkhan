{
  "cells": [
    {
      "cell_type": "markdown",
      "metadata": {
        "id": "view-in-github",
        "colab_type": "text"
      },
      "source": [
        "<a href=\"https://colab.research.google.com/github/Azewkhan/Azewkhan/blob/main/Tensor_models.ipynb\" target=\"_parent\"><img src=\"https://colab.research.google.com/assets/colab-badge.svg\" alt=\"Open In Colab\"/></a>"
      ]
    },
    {
      "cell_type": "code",
      "execution_count": null,
      "id": "260dbc55",
      "metadata": {
        "id": "260dbc55",
        "outputId": "2d2f6441-85a7-4c0d-a542-cfad7fd20795"
      },
      "outputs": [
        {
          "name": "stdout",
          "output_type": "stream",
          "text": [
            "Tensor A\n",
            "tf.Tensor(\n",
            "[[ 0.57000446  0.5653031  -0.08526301]\n",
            " [ 0.77348924  0.09369636 -0.91183496]\n",
            " [ 0.13755989 -0.6998575  -0.86638856]], shape=(3, 3), dtype=float32)\n",
            "--------------------\n",
            "Tensor B\n",
            "tf.Tensor(\n",
            "[[-0.19237328 -0.3603897   0.29609776]\n",
            " [ 0.13139105  0.8150058   0.81532216]\n",
            " [ 0.9104116  -0.09499311  0.5667095 ]], shape=(3, 3), dtype=float32)\n",
            "--------------------\n",
            "Addition of Tensor A and Tensor B\n",
            "tf.Tensor(\n",
            "[[ 0.3776312   0.20491338  0.21083474]\n",
            " [ 0.9048803   0.90870214 -0.09651279]\n",
            " [ 1.0479715  -0.7948506  -0.29967904]], shape=(3, 3), dtype=float32)\n",
            "--------------------\n",
            "Multiplication of Tensor A and Tensor B\n",
            "tf.Tensor(\n",
            "[[-0.10965363 -0.20372942 -0.02524619]\n",
            " [ 0.10162956  0.07636307 -0.74343926]\n",
            " [ 0.12523612  0.06648164 -0.49099064]], shape=(3, 3), dtype=float32)\n",
            "--------------------\n",
            "Division of Tensor A and Tensor B\n",
            "tf.Tensor(\n",
            "[[-2.9630127  -1.5685883  -0.2879556 ]\n",
            " [ 5.8869247   0.11496404 -1.1183739 ]\n",
            " [ 0.15109637  7.3674545  -1.5288054 ]], shape=(3, 3), dtype=float32)\n",
            "--------------------\n",
            "Subtraction of Tensor A and Tensor B\n",
            "tf.Tensor(\n",
            "[[ 0.76237774  0.9256928  -0.38136077]\n",
            " [ 0.6420982  -0.7213094  -1.7271571 ]\n",
            " [-0.7728517  -0.60486436 -1.4330981 ]], shape=(3, 3), dtype=float32)\n"
          ]
        }
      ],
      "source": [
        "import tensorflow as tf\n",
        "\n",
        "A =tf.random.uniform(shape = (3,3), minval= -1, maxval= 1)\n",
        "B =tf.random.uniform(shape = (3,3), minval= -1, maxval= 1)\n",
        "C = tf.add(A,B)\n",
        "D = tf.multiply(A,B)\n",
        "E = tf.divide(A,B)\n",
        "F = tf.subtract(A,B)\n",
        "\n",
        "\n",
        "print(\"Tensor A\")\n",
        "print(A)\n",
        "print('-'*20)\n",
        "print(\"Tensor B\")\n",
        "print(B)\n",
        "print('-'*20)\n",
        "print(\"Addition of Tensor A and Tensor B\")\n",
        "print(C)\n",
        "print('-'*20)\n",
        "print(\"Multiplication of Tensor A and Tensor B\")\n",
        "print(D)\n",
        "print('-'*20)\n",
        "print(\"Division of Tensor A and Tensor B\")\n",
        "print(E)\n",
        "print('-'*20)\n",
        "print(\"Subtraction of Tensor A and Tensor B\")\n",
        "print(F)\n",
        "\n"
      ]
    },
    {
      "cell_type": "code",
      "execution_count": null,
      "id": "eed9cbe9",
      "metadata": {
        "id": "eed9cbe9",
        "outputId": "8e649f68-5c2c-4e69-b9d8-5b560dcf5ef1"
      },
      "outputs": [
        {
          "name": "stdout",
          "output_type": "stream",
          "text": [
            "tf.Tensor(\n",
            "[[5. 6.]\n",
            " [7. 8.]], shape=(2, 2), dtype=float32)\n",
            "tf.Tensor(\n",
            "[[5. 6.]\n",
            " [7. 8.]], shape=(2, 2), dtype=float32)\n"
          ]
        }
      ],
      "source": [
        "import numpy as np\n",
        "\n",
        "#Method 1\n",
        "snow_tensor1 = tf.constant([[5, 6], [7, 8]],shape= (2,2), dtype='float32')\n",
        "print(snow_tensor1)\n",
        "\n",
        "#Method 2\n",
        "snow = np.array([[5, 6], [7, 8]], dtype='float32')\n",
        "snow_tensor2 = tf.convert_to_tensor(snow)\n",
        "\n",
        "print(snow_tensor2)"
      ]
    },
    {
      "cell_type": "code",
      "execution_count": null,
      "id": "adcbf00f",
      "metadata": {
        "id": "adcbf00f",
        "outputId": "5029427c-cb32-47b4-a836-b824377fe24a"
      },
      "outputs": [
        {
          "name": "stdout",
          "output_type": "stream",
          "text": [
            "Encoded Tensor:\n",
            "[[1. 0. 0. 0. 0. 0. 0. 0. 0. 0.]]\n",
            "\n",
            "Number of Dimensions: 2\n"
          ]
        }
      ],
      "source": [
        "from keras.utils import to_categorical\n",
        "\n",
        "label = \"santaclaus\"\n",
        "encoded_label = to_categorical([0], num_classes=len(label))\n",
        "\n",
        "print(\"Encoded Tensor:\")\n",
        "print(encoded_label)\n",
        "print(\"\\nNumber of Dimensions:\", encoded_label.ndim)"
      ]
    },
    {
      "cell_type": "code",
      "execution_count": null,
      "id": "d39ce66e",
      "metadata": {
        "id": "d39ce66e",
        "outputId": "770d3b06-bf18-4b75-a816-653f44b0eb0f"
      },
      "outputs": [
        {
          "name": "stdout",
          "output_type": "stream",
          "text": [
            "WARNING:tensorflow:From C:\\Users\\azeem\\AppData\\Roaming\\Python\\Python311\\site-packages\\keras\\src\\backend.py:873: The name tf.get_default_graph is deprecated. Please use tf.compat.v1.get_default_graph instead.\n",
            "\n",
            "WARNING:tensorflow:From C:\\Users\\azeem\\AppData\\Roaming\\Python\\Python311\\site-packages\\keras\\src\\optimizers\\__init__.py:309: The name tf.train.Optimizer is deprecated. Please use tf.compat.v1.train.Optimizer instead.\n",
            "\n",
            "Model: \"sequential\"\n",
            "_________________________________________________________________\n",
            " Layer (type)                Output Shape              Param #   \n",
            "=================================================================\n",
            " dense (Dense)               (None, 128)               100480    \n",
            "                                                                 \n",
            " dense_1 (Dense)             (None, 128)               16512     \n",
            "                                                                 \n",
            " dense_2 (Dense)             (None, 64)                8256      \n",
            "                                                                 \n",
            " dense_3 (Dense)             (None, 1)                 65        \n",
            "                                                                 \n",
            "=================================================================\n",
            "Total params: 125313 (489.50 KB)\n",
            "Trainable params: 125313 (489.50 KB)\n",
            "Non-trainable params: 0 (0.00 Byte)\n",
            "_________________________________________________________________\n"
          ]
        }
      ],
      "source": [
        "from keras.models import Sequential\n",
        "from keras.layers import Dense\n",
        "\n",
        "# Sequential Model\n",
        "model = Sequential()\n",
        "model.add(Dense(128, input_shape=(784,), activation='relu'))\n",
        "model.add(Dense(128, activation='relu'))\n",
        "model.add(Dense(64, activation='relu'))\n",
        "model.add(Dense(1, activation='sigmoid'))\n",
        "\n",
        "\n",
        "model.compile(optimizer='adam', loss='binary_crossentropy', metrics=['accuracy'])\n",
        "model.summary()\n"
      ]
    },
    {
      "cell_type": "code",
      "execution_count": null,
      "id": "6537555c",
      "metadata": {
        "id": "6537555c",
        "outputId": "4a355969-88cd-4108-f7f1-79a5bb582db3"
      },
      "outputs": [
        {
          "name": "stdout",
          "output_type": "stream",
          "text": [
            "Epoch 1/10\n",
            "625/625 [==============================] - 5s 5ms/step - loss: 34.6187 - val_loss: 3.5005\n",
            "Epoch 2/10\n",
            "625/625 [==============================] - 2s 4ms/step - loss: 3.0976 - val_loss: 2.6454\n",
            "Epoch 3/10\n",
            "625/625 [==============================] - 3s 4ms/step - loss: 2.1118 - val_loss: 1.5613\n",
            "Epoch 4/10\n",
            "625/625 [==============================] - 3s 4ms/step - loss: 1.3814 - val_loss: 1.5883\n",
            "Epoch 5/10\n",
            "625/625 [==============================] - 2s 4ms/step - loss: 1.1999 - val_loss: 1.7965\n",
            "Epoch 6/10\n",
            "625/625 [==============================] - 2s 3ms/step - loss: 1.1327 - val_loss: 1.5508\n",
            "Epoch 7/10\n",
            "625/625 [==============================] - 2s 3ms/step - loss: 0.9860 - val_loss: 1.2377\n",
            "Epoch 8/10\n",
            "625/625 [==============================] - 2s 3ms/step - loss: 0.9371 - val_loss: 1.2629\n",
            "Epoch 9/10\n",
            "625/625 [==============================] - 2s 3ms/step - loss: 1.0332 - val_loss: 1.7969\n",
            "Epoch 10/10\n",
            "625/625 [==============================] - 2s 4ms/step - loss: 1.0188 - val_loss: 1.1212\n",
            "782/782 [==============================] - 2s 2ms/step\n",
            "Accuracy: 0.50956\n",
            "Precision: 0.5067832207526821\n",
            "Recall: 0.71424\n",
            "F1-score: 0.5928877378224923\n"
          ]
        }
      ],
      "source": [
        "from keras.datasets import imdb\n",
        "from keras.models import Sequential\n",
        "from keras.layers import Dense\n",
        "from sklearn.metrics import accuracy_score, precision_score, recall_score, f1_score\n",
        "\n",
        "#Splitting the datasets into traininng and testing\n",
        "(x_train, y_train), (x_test, y_test) = imdb.load_data(num_words=10000)\n",
        "\n",
        "# Truncating the reviews which has more than 1000 words\n",
        "x_train = np.array([np.pad(sequence, (0, max(0, 1000 - len(sequence))), 'constant')[:1000] for sequence in x_train])\n",
        "x_test = np.array([np.pad(sequence, (0, max(0, 1000 - len(sequence))), 'constant')[:1000] for sequence in x_test])\n",
        "\n",
        "\n",
        "model = Sequential()\n",
        "model.add(Dense(128, input_shape=(1000,), activation='relu'))\n",
        "model.add(Dense(64, activation='relu'))\n",
        "model.add(Dense(1, activation='sigmoid'))\n",
        "\n",
        "model.compile(optimizer='adam', loss='binary_crossentropy')\n",
        "\n",
        "model.fit(x_train, y_train, epochs=10, batch_size=32, validation_split=0.2)\n",
        "\n",
        "# Evaluate the model\n",
        "y_pred = model.predict(x_test)\n",
        "y_pred = (y_pred_prob > 0.5).astype(int)\n",
        "accuracy = accuracy_score(y_test, y_pred)\n",
        "precision = precision_score(y_test, y_pred)\n",
        "recall = recall_score(y_test, y_pred)\n",
        "f1 = f1_score(y_test, y_pred)\n",
        "\n",
        "print(\"Accuracy:\", accuracy)\n",
        "print(\"Precision:\", precision)\n",
        "print(\"Recall:\", recall)\n",
        "print(\"F1-score:\", f1)\n"
      ]
    },
    {
      "cell_type": "code",
      "execution_count": null,
      "id": "cbb4f969",
      "metadata": {
        "id": "cbb4f969",
        "outputId": "5b4a3986-ac64-4f99-b622-9dc944cdba26"
      },
      "outputs": [
        {
          "name": "stdout",
          "output_type": "stream",
          "text": [
            "Training set shape: (60000, 28, 28)\n",
            "Training labels shape: (60000,)\n",
            "Test set shape: (10000, 28, 28)\n",
            "Test labels shape: (10000,)\n",
            "--------------------\n",
            "Class Distribution in Training Set:\n",
            "Class 0: 4800 samples\n",
            "Class 1: 4800 samples\n",
            "Class 2: 4800 samples\n",
            "Class 3: 4800 samples\n",
            "Class 4: 4800 samples\n",
            "Class 5: 4800 samples\n",
            "Class 6: 4800 samples\n",
            "Class 7: 4800 samples\n",
            "Class 8: 4800 samples\n",
            "Class 9: 4800 samples\n",
            "--------------------\n",
            "\n",
            "Class Distribution in Validation Set:\n",
            "Class 0: 1200 samples\n",
            "Class 1: 1200 samples\n",
            "Class 2: 1200 samples\n",
            "Class 3: 1200 samples\n",
            "Class 4: 1200 samples\n",
            "Class 5: 1200 samples\n",
            "Class 6: 1200 samples\n",
            "Class 7: 1200 samples\n",
            "Class 8: 1200 samples\n",
            "Class 9: 1200 samples\n",
            "--------------------\n",
            "\n",
            "Class Distribution in Test Set:\n",
            "Class 0: 1000 samples\n",
            "Class 1: 1000 samples\n",
            "Class 2: 1000 samples\n",
            "Class 3: 1000 samples\n",
            "Class 4: 1000 samples\n",
            "Class 5: 1000 samples\n",
            "Class 6: 1000 samples\n",
            "Class 7: 1000 samples\n",
            "Class 8: 1000 samples\n",
            "Class 9: 1000 samples\n"
          ]
        }
      ],
      "source": [
        "import tensorflow as tf\n",
        "from sklearn.model_selection import train_test_split\n",
        "import numpy as np\n",
        "\n",
        "fashion_mnist = tf.keras.datasets.fashion_mnist\n",
        "(x_train, y_train), (x_test, y_test) = fashion_mnist.load_data()\n",
        "\n",
        "print(\"Training set shape:\", x_train.shape)\n",
        "print(\"Training labels shape:\", y_train.shape)\n",
        "print(\"Test set shape:\", x_test.shape)\n",
        "print(\"Test labels shape:\", y_test.shape)\n",
        "\n",
        "x_train, x_val, y_train, y_val = train_test_split(x_train, y_train, test_size=0.2, stratify=y_train, random_state=68)\n",
        "\n",
        "# Inspect class distribution in training, validation, and testing sets\n",
        "train_class_distribution = np.bincount(y_train)\n",
        "val_class_distribution = np.bincount(y_val)\n",
        "test_class_distribution = np.bincount(y_test)\n",
        "\n",
        "print(\"-\"*20)\n",
        "print(\"Class Distribution in Training Set:\")\n",
        "for class_idx, count in enumerate(train_class_distribution):\n",
        "    print(f\"Class {class_idx}: {count} samples\")\n",
        "\n",
        "print(\"-\"*20)\n",
        "print(\"\\nClass Distribution in Validation Set:\")\n",
        "for class_idx, count in enumerate(val_class_distribution):\n",
        "    print(f\"Class {class_idx}: {count} samples\")\n",
        "\n",
        "print(\"-\"*20)\n",
        "print(\"\\nClass Distribution in Test Set:\")\n",
        "for class_idx, count in enumerate(test_class_distribution):\n",
        "    print(f\"Class {class_idx}: {count} samples\")\n"
      ]
    },
    {
      "cell_type": "code",
      "execution_count": null,
      "id": "eac116e9",
      "metadata": {
        "id": "eac116e9",
        "outputId": "4a488389-9e43-464f-a87f-d2b8aec20a93"
      },
      "outputs": [
        {
          "name": "stdout",
          "output_type": "stream",
          "text": [
            "Epoch 1/10\n",
            "1875/1875 [==============================] - 22s 10ms/step - loss: 0.5137 - accuracy: 0.8118 - val_loss: 0.3832 - val_accuracy: 0.8630\n",
            "Epoch 2/10\n",
            "1875/1875 [==============================] - 20s 11ms/step - loss: 0.3305 - accuracy: 0.8788 - val_loss: 0.3225 - val_accuracy: 0.8841\n",
            "Epoch 3/10\n",
            "1875/1875 [==============================] - 18s 9ms/step - loss: 0.2827 - accuracy: 0.8952 - val_loss: 0.2998 - val_accuracy: 0.8915\n",
            "Epoch 4/10\n",
            "1875/1875 [==============================] - 16s 9ms/step - loss: 0.2512 - accuracy: 0.9081 - val_loss: 0.3051 - val_accuracy: 0.8906\n",
            "Epoch 5/10\n",
            "1875/1875 [==============================] - 21s 11ms/step - loss: 0.2296 - accuracy: 0.9149 - val_loss: 0.2692 - val_accuracy: 0.9029\n",
            "Epoch 6/10\n",
            "1875/1875 [==============================] - 18s 9ms/step - loss: 0.2063 - accuracy: 0.9234 - val_loss: 0.2642 - val_accuracy: 0.9053\n",
            "Epoch 7/10\n",
            "1875/1875 [==============================] - 18s 9ms/step - loss: 0.1905 - accuracy: 0.9288 - val_loss: 0.2664 - val_accuracy: 0.9022\n",
            "Epoch 8/10\n",
            "1875/1875 [==============================] - 18s 10ms/step - loss: 0.1737 - accuracy: 0.9360 - val_loss: 0.2690 - val_accuracy: 0.9036\n",
            "Epoch 9/10\n",
            "1875/1875 [==============================] - 19s 10ms/step - loss: 0.1605 - accuracy: 0.9403 - val_loss: 0.2894 - val_accuracy: 0.9001\n",
            "Epoch 9: early stopping\n"
          ]
        }
      ],
      "source": [
        "import tensorflow as tf\n",
        "from tensorflow.keras import layers, callbacks\n",
        "\n",
        "\n",
        "fashion_mnist = tf.keras.datasets.fashion_mnist\n",
        "(x_train, y_train), (x_test, y_test) = fashion_mnist.load_data()\n",
        "x_train = x_train.reshape((-1, 28, 28, 1)) / 255.0\n",
        "x_test = x_test.reshape((-1, 28, 28, 1)) / 255.0\n",
        "\n",
        "\n",
        "# Model architecture\n",
        "model = tf.keras.Sequential([\n",
        "    layers.Conv2D(32, (3, 3), activation='relu', input_shape=(28, 28, 1)),\n",
        "    layers.MaxPooling2D((2, 2)),\n",
        "    layers.Conv2D(64, (3, 3), activation='relu'),\n",
        "    layers.MaxPooling2D((2, 2)),\n",
        "    layers.Conv2D(64, (3, 3), activation='relu'),\n",
        "    layers.Flatten(),\n",
        "    layers.Dense(64, activation='relu'),\n",
        "    layers.Dense(10, activation='softmax')\n",
        "])\n",
        "model.compile(optimizer='adam',loss='sparse_categorical_crossentropy',metrics=['accuracy'])\n",
        "early_stopping = callbacks.EarlyStopping(monitor='val_loss', patience=3, verbose=1)\n",
        "\n",
        "# Train the model with EarlyStopping callback\n",
        "history = model.fit(x_train, y_train, epochs=10, validation_data=(x_test, y_test), callbacks=[early_stopping])\n"
      ]
    },
    {
      "cell_type": "code",
      "execution_count": null,
      "id": "312884d8",
      "metadata": {
        "id": "312884d8",
        "outputId": "c1f0d3f5-d113-408c-db83-fc20ba0509a1"
      },
      "outputs": [
        {
          "name": "stdout",
          "output_type": "stream",
          "text": [
            "Epoch 1/10\n",
            "32/32 [==============================] - 1s 3ms/step - loss: 0.0927\n",
            "Epoch 2/10\n",
            "32/32 [==============================] - 0s 3ms/step - loss: 0.0869\n",
            "Epoch 3/10\n",
            "32/32 [==============================] - 0s 3ms/step - loss: 0.0836\n",
            "Epoch 4/10\n",
            "32/32 [==============================] - 0s 2ms/step - loss: 0.0822\n",
            "Epoch 5/10\n",
            "32/32 [==============================] - 0s 2ms/step - loss: 0.0816\n",
            "Epoch 6/10\n",
            "32/32 [==============================] - 0s 2ms/step - loss: 0.0808\n",
            "Epoch 7/10\n",
            "32/32 [==============================] - 0s 3ms/step - loss: 0.0799\n",
            "Epoch 8/10\n",
            "32/32 [==============================] - 0s 2ms/step - loss: 0.0802\n",
            "Epoch 9/10\n",
            "32/32 [==============================] - 0s 2ms/step - loss: 0.0784\n",
            "Epoch 10/10\n",
            "32/32 [==============================] - 0s 2ms/step - loss: 0.0781\n"
          ]
        },
        {
          "data": {
            "text/plain": [
              "<keras.src.callbacks.History at 0x1a017cadb10>"
            ]
          },
          "execution_count": 69,
          "metadata": {},
          "output_type": "execute_result"
        }
      ],
      "source": [
        "import tensorflow as tf\n",
        "import numpy as np\n",
        "\n",
        "# Define a custom model class inheriting from tf.keras.Model\n",
        "class CustomModel(tf.keras.Model):\n",
        "    def __init__(self):\n",
        "        super(CustomModel, self).__init__()\n",
        "        self.dense1 = tf.keras.layers.Dense(64, activation='relu')\n",
        "        self.dense2 = tf.keras.layers.Dense(32, activation='relu')\n",
        "        self.dense3 = tf.keras.layers.Dense(1)\n",
        "    def call(self, inputs):\n",
        "        x = self.dense1(inputs)\n",
        "        x = self.dense2(x)\n",
        "        return self.dense3(x)\n",
        "\n",
        "# Create an instance of the custom model\n",
        "model = CustomModel()\n",
        "\n",
        "# Generate synthetic data for regression\n",
        "np.random.seed(0)\n",
        "X_train = np.random.rand(1000, 10)\n",
        "y_train = np.random.rand(1000, 1)\n",
        "\n",
        "model.compile(optimizer=tf.keras.optimizers.Adam(), loss=tf.keras.losses.MeanSquaredError())\n",
        "\n",
        "model.fit(X_train, y_train, epochs=10, batch_size=32)\n"
      ]
    },
    {
      "cell_type": "code",
      "execution_count": null,
      "id": "7309b6b6",
      "metadata": {
        "id": "7309b6b6",
        "outputId": "82349c8b-f707-46df-f884-2317d93653e5"
      },
      "outputs": [
        {
          "name": "stdout",
          "output_type": "stream",
          "text": [
            "Epoch 1/5\n",
            "782/782 [==============================] - 30s 37ms/step - loss: 0.4246 - accuracy: 0.7937 - val_loss: 0.3026 - val_accuracy: 0.8743\n",
            "Epoch 2/5\n",
            "782/782 [==============================] - 30s 38ms/step - loss: 0.1523 - accuracy: 0.9466 - val_loss: 0.3437 - val_accuracy: 0.8653\n",
            "Epoch 3/5\n",
            "782/782 [==============================] - 31s 40ms/step - loss: 0.0293 - accuracy: 0.9939 - val_loss: 0.4213 - val_accuracy: 0.8635\n",
            "Epoch 4/5\n",
            "782/782 [==============================] - 29s 37ms/step - loss: 0.0039 - accuracy: 0.9997 - val_loss: 0.4956 - val_accuracy: 0.8635\n",
            "Epoch 5/5\n",
            "782/782 [==============================] - 31s 39ms/step - loss: 0.0010 - accuracy: 1.0000 - val_loss: 0.5477 - val_accuracy: 0.8619\n"
          ]
        },
        {
          "data": {
            "text/plain": [
              "<keras.src.callbacks.History at 0x1a01db9f090>"
            ]
          },
          "execution_count": 86,
          "metadata": {},
          "output_type": "execute_result"
        }
      ],
      "source": [
        "import tensorflow as tf\n",
        "from tensorflow.keras.datasets import imdb\n",
        "from tensorflow.keras.preprocessing.sequence import pad_sequences\n",
        "from tensorflow.keras.models import Sequential\n",
        "from tensorflow.keras.layers import Embedding, Flatten, Dense\n",
        "\n",
        "(x_train, y_train), (x_test, y_test) = imdb.load_data(num_words=10000)\n",
        "\n",
        "x_train = pad_sequences(x_train, maxlen= 1000, padding='post')\n",
        "x_test = pad_sequences(x_test, maxlen= 1000, padding='post')\n",
        "\n",
        "\n",
        "# Build the text classification model\n",
        "model = Sequential([\n",
        "    Embedding(input_dim= 10000 , output_dim= 50, input_length= 1000),\n",
        "    Flatten(),\n",
        "    Dense(16, activation='relu'),\n",
        "    Dense(1, activation='sigmoid')\n",
        "])\n",
        "model.compile(optimizer='adam', loss='binary_crossentropy', metrics=['accuracy'])\n",
        "\n",
        "# Train the model\n",
        "model.fit(x_train, y_train, epochs=5, batch_size=32, validation_data=(x_test, y_test))\n",
        "\n",
        "\n"
      ]
    }
  ],
  "metadata": {
    "kernelspec": {
      "display_name": "Python 3 (ipykernel)",
      "language": "python",
      "name": "python3"
    },
    "language_info": {
      "codemirror_mode": {
        "name": "ipython",
        "version": 3
      },
      "file_extension": ".py",
      "mimetype": "text/x-python",
      "name": "python",
      "nbconvert_exporter": "python",
      "pygments_lexer": "ipython3",
      "version": "3.11.5"
    },
    "colab": {
      "provenance": [],
      "include_colab_link": true
    }
  },
  "nbformat": 4,
  "nbformat_minor": 5
}